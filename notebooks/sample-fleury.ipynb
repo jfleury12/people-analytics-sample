{
 "cells": [
  {
   "cell_type": "markdown",
   "metadata": {},
   "source": [
    "# Sample People Analytics Dataset"
   ]
  },
  {
   "cell_type": "markdown",
   "metadata": {},
   "source": [
    "### Import Necessary Packages"
   ]
  },
  {
   "cell_type": "code",
   "execution_count": 16,
   "metadata": {},
   "outputs": [],
   "source": [
    "import pandas as pd\n",
    "import numpy as np\n",
    "import matplotlib.pyplot as plt\n",
    "import seaborn as sns\n",
    "%matplotlib inline"
   ]
  },
  {
   "cell_type": "code",
   "execution_count": 9,
   "metadata": {},
   "outputs": [],
   "source": [
    "employee_data = [\n",
    "['E00001', '12/01', 25, 23],\n",
    "['E00001', '12/02', 25, 21],\n",
    "['E00001', '12/03', 30, 29],\n",
    "['E00001', '01/04', 'NA', 20],\n",
    "['E00001', '01/05', 30, 19],\n",
    "['E00002', '12/01', 31, 17],\n",
    "['E00002', '12/02', 33, 16],\n",
    "['E00002', '12/03', 29, 16],\n",
    "['E00003', '12/01', 25, 26],\n",
    "['E00003', '12/02', 32, 27],\n",
    "['E00003', '11/03', 28, 28],\n",
    "['E00004', '11/01', 29, 27],\n",
    "['E00004', '11/02', 27, 27],\n",
    "['E00004', '11/03', 'NA', 25],\n",
    "['E00004', '12/04', 25, 24],\n",
    "['E00004', '12/05', 25, 23],\n",
    "['E00004', '12/06', 29, 23],\n",
    "['E00004', '12/07', 31, 23],\n",
    "['E00005', '12/01', 25, 21],\n",
    "['E00006', '12/02', 18, 16],\n",
    "['E00006', '12/03', 19, 14],\n",
    "['E00006', '01/01', 19, 19],\n",
    "['E00007', '10/01', 24, 23]\n",
    "]"
   ]
  },
  {
   "cell_type": "code",
   "execution_count": 11,
   "metadata": {},
   "outputs": [],
   "source": [
    "manager_data = [\n",
    "['M0001', 'E00001', 'USA'],\n",
    "['M0001', 'E00002', 'USA'],\n",
    "['M0001', 'E00003', 'USA'],\n",
    "['M0002', 'E00004', 'USA'],\n",
    "['M0002', 'E00005', 'USA'],\n",
    "['M0002', 'E00006', 'USA'],\n",
    "['M0003', 'E00007', 'IND'],\n",
    "]"
   ]
  },
  {
   "cell_type": "markdown",
   "metadata": {},
   "source": [
    "Create separate dataframes to store employee and manager information"
   ]
  },
  {
   "cell_type": "code",
   "execution_count": 12,
   "metadata": {},
   "outputs": [],
   "source": [
    "emp_df = pd.DataFrame(employee_data, columns = ['employee_id','date','phone_calls','satisfied'])\n",
    "manager_df = pd.DataFrame(manager_data, columns = ['manager_id','direct_report_id','country'])"
   ]
  },
  {
   "cell_type": "markdown",
   "metadata": {},
   "source": [
    "### Table Preview"
   ]
  },
  {
   "cell_type": "code",
   "execution_count": 20,
   "metadata": {},
   "outputs": [
    {
     "name": "stdout",
     "output_type": "stream",
     "text": [
      "Table size:  (23, 4)\n"
     ]
    },
    {
     "data": {
      "text/html": [
       "<div>\n",
       "<style scoped>\n",
       "    .dataframe tbody tr th:only-of-type {\n",
       "        vertical-align: middle;\n",
       "    }\n",
       "\n",
       "    .dataframe tbody tr th {\n",
       "        vertical-align: top;\n",
       "    }\n",
       "\n",
       "    .dataframe thead th {\n",
       "        text-align: right;\n",
       "    }\n",
       "</style>\n",
       "<table border=\"1\" class=\"dataframe\">\n",
       "  <thead>\n",
       "    <tr style=\"text-align: right;\">\n",
       "      <th></th>\n",
       "      <th>employee_id</th>\n",
       "      <th>date</th>\n",
       "      <th>phone_calls</th>\n",
       "      <th>satisfied</th>\n",
       "    </tr>\n",
       "  </thead>\n",
       "  <tbody>\n",
       "    <tr>\n",
       "      <td>0</td>\n",
       "      <td>E00001</td>\n",
       "      <td>12/01</td>\n",
       "      <td>25</td>\n",
       "      <td>23</td>\n",
       "    </tr>\n",
       "    <tr>\n",
       "      <td>1</td>\n",
       "      <td>E00001</td>\n",
       "      <td>12/02</td>\n",
       "      <td>25</td>\n",
       "      <td>21</td>\n",
       "    </tr>\n",
       "    <tr>\n",
       "      <td>2</td>\n",
       "      <td>E00001</td>\n",
       "      <td>12/03</td>\n",
       "      <td>30</td>\n",
       "      <td>29</td>\n",
       "    </tr>\n",
       "    <tr>\n",
       "      <td>3</td>\n",
       "      <td>E00001</td>\n",
       "      <td>01/04</td>\n",
       "      <td>NA</td>\n",
       "      <td>20</td>\n",
       "    </tr>\n",
       "    <tr>\n",
       "      <td>4</td>\n",
       "      <td>E00001</td>\n",
       "      <td>01/05</td>\n",
       "      <td>30</td>\n",
       "      <td>19</td>\n",
       "    </tr>\n",
       "  </tbody>\n",
       "</table>\n",
       "</div>"
      ],
      "text/plain": [
       "  employee_id   date phone_calls  satisfied\n",
       "0      E00001  12/01          25         23\n",
       "1      E00001  12/02          25         21\n",
       "2      E00001  12/03          30         29\n",
       "3      E00001  01/04          NA         20\n",
       "4      E00001  01/05          30         19"
      ]
     },
     "execution_count": 20,
     "metadata": {},
     "output_type": "execute_result"
    }
   ],
   "source": [
    "print(\"Table size: \", emp_df.shape)\n",
    "emp_df.head()"
   ]
  },
  {
   "cell_type": "code",
   "execution_count": 21,
   "metadata": {},
   "outputs": [
    {
     "name": "stdout",
     "output_type": "stream",
     "text": [
      "Table size:  (7, 3)\n"
     ]
    },
    {
     "data": {
      "text/html": [
       "<div>\n",
       "<style scoped>\n",
       "    .dataframe tbody tr th:only-of-type {\n",
       "        vertical-align: middle;\n",
       "    }\n",
       "\n",
       "    .dataframe tbody tr th {\n",
       "        vertical-align: top;\n",
       "    }\n",
       "\n",
       "    .dataframe thead th {\n",
       "        text-align: right;\n",
       "    }\n",
       "</style>\n",
       "<table border=\"1\" class=\"dataframe\">\n",
       "  <thead>\n",
       "    <tr style=\"text-align: right;\">\n",
       "      <th></th>\n",
       "      <th>manager_id</th>\n",
       "      <th>direct_report_id</th>\n",
       "      <th>country</th>\n",
       "    </tr>\n",
       "  </thead>\n",
       "  <tbody>\n",
       "    <tr>\n",
       "      <td>0</td>\n",
       "      <td>M0001</td>\n",
       "      <td>E00001</td>\n",
       "      <td>USA</td>\n",
       "    </tr>\n",
       "    <tr>\n",
       "      <td>1</td>\n",
       "      <td>M0001</td>\n",
       "      <td>E00002</td>\n",
       "      <td>USA</td>\n",
       "    </tr>\n",
       "    <tr>\n",
       "      <td>2</td>\n",
       "      <td>M0001</td>\n",
       "      <td>E00003</td>\n",
       "      <td>USA</td>\n",
       "    </tr>\n",
       "    <tr>\n",
       "      <td>3</td>\n",
       "      <td>M0002</td>\n",
       "      <td>E00004</td>\n",
       "      <td>USA</td>\n",
       "    </tr>\n",
       "    <tr>\n",
       "      <td>4</td>\n",
       "      <td>M0002</td>\n",
       "      <td>E00005</td>\n",
       "      <td>USA</td>\n",
       "    </tr>\n",
       "  </tbody>\n",
       "</table>\n",
       "</div>"
      ],
      "text/plain": [
       "  manager_id direct_report_id country\n",
       "0      M0001           E00001     USA\n",
       "1      M0001           E00002     USA\n",
       "2      M0001           E00003     USA\n",
       "3      M0002           E00004     USA\n",
       "4      M0002           E00005     USA"
      ]
     },
     "execution_count": 21,
     "metadata": {},
     "output_type": "execute_result"
    }
   ],
   "source": [
    "print(\"Table size: \", manager_df.shape)\n",
    "manager_df.head()"
   ]
  },
  {
   "cell_type": "code",
   "execution_count": 15,
   "metadata": {},
   "outputs": [
    {
     "name": "stdout",
     "output_type": "stream",
     "text": [
      "<class 'pandas.core.frame.DataFrame'>\n",
      "RangeIndex: 23 entries, 0 to 22\n",
      "Data columns (total 4 columns):\n",
      "employee_id    23 non-null object\n",
      "date           23 non-null object\n",
      "phone_calls    23 non-null object\n",
      "satisfied      23 non-null int64\n",
      "dtypes: int64(1), object(3)\n",
      "memory usage: 864.0+ bytes\n"
     ]
    }
   ],
   "source": []
  },
  {
   "cell_type": "code",
   "execution_count": null,
   "metadata": {},
   "outputs": [],
   "source": []
  }
 ],
 "metadata": {
  "kernelspec": {
   "display_name": "Python 3",
   "language": "python",
   "name": "python3"
  },
  "language_info": {
   "codemirror_mode": {
    "name": "ipython",
    "version": 3
   },
   "file_extension": ".py",
   "mimetype": "text/x-python",
   "name": "python",
   "nbconvert_exporter": "python",
   "pygments_lexer": "ipython3",
   "version": "3.6.9"
  }
 },
 "nbformat": 4,
 "nbformat_minor": 2
}
